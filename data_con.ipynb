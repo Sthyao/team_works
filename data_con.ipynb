{
 "cells": [
  {
   "cell_type": "code",
   "execution_count": 24,
   "id": "bb66f091",
   "metadata": {},
   "outputs": [],
   "source": [
    "import pandas as pd\n",
    "import numpy as np\n",
    "import copy"
   ]
  },
  {
   "cell_type": "code",
   "execution_count": 25,
   "id": "b860966d",
   "metadata": {},
   "outputs": [],
   "source": [
    "def minmax_norm(df,lable):\n",
    "    list_ = df.loc[:,lable].values\n",
    "    max_ = max(list_)\n",
    "    min_ = min(list_)\n",
    "    if max_-min_ == 0:\n",
    "        return np.ones(len(list_))\n",
    "    else:\n",
    "        return (list_ - min_)/(max_-min_)"
   ]
  },
  {
   "cell_type": "code",
   "execution_count": null,
   "id": "438bdf76",
   "metadata": {},
   "outputs": [],
   "source": [
    "data_set = pd.read_excel('./data.xlsx')\n",
    "data_set.drop(labels=['survey_time','variable'],axis=1,inplace=True)\n",
    "data_set.info()"
   ]
  },
  {
   "cell_type": "code",
   "execution_count": 27,
   "id": "b4c544b8",
   "metadata": {},
   "outputs": [
    {
     "name": "stdout",
     "output_type": "stream",
     "text": [
      "{2.0, 4.0, 5.0, 8.0, 13.0}\n"
     ]
    }
   ],
   "source": [
    "#data1 = data_set.fillna(value={'career2':-1})\n",
    "#data1 = data1.loc[data1.career2 != -1]\n",
    "#data1 = data1.loc[data1.career1 == 12]\n",
    "#career_set = list(set(data1['career2'].values))\n",
    "#1-学生；2-室内工作人员（教师、酒店服务员、IT程序员、行政人员等）；3-室外个体经商者（街边商贩、报亭人员等）；\n",
    "#4-快递员；5-保安员；6-交警/交通协管；7-加油站、停车场工作人员；8-户外工人（建筑工人、装修工人等）；9-厨师；\n",
    "#10-司机（出租车、公交车、运输车辆等）；11-外卖送餐员；12-其他\n",
    "\n",
    "#career_set\n",
    "gather_dic ={12:['农','务农','农民'],13:['室内个体经营者','个体经营','个体','淘宝商','网店店主'],\n",
    "              14:['收藏','销售'],\n",
    "              15:['离退休','退休','退休人员','离退人员', '主妇','无业','家庭主妇'],\n",
    "              2:['美容行业','金融工作人员','收藏','营业员','生产车间','医生','室内生产'],\n",
    "              4:['三轮车拉货']}\n",
    "\n",
    "\n",
    "career_list = data_set.loc[:,['career1','career2']].values\n",
    "for i in range(len(career_list)):\n",
    "    if career_list[i][0] != 12:\n",
    "        pass\n",
    "    else:\n",
    "        for k,v in gather_dic.items():\n",
    "            for career_one in v:\n",
    "                if career_list[i][1] == career_one:\n",
    "                    career_list[i][0] = int(k)\n",
    "\n",
    "print(set(career_list[:,0]))"
   ]
  },
  {
   "cell_type": "code",
   "execution_count": 28,
   "id": "cc9649f3",
   "metadata": {},
   "outputs": [
    {
     "data": {
      "text/plain": [
       "{-1.0, 1.0}"
      ]
     },
     "execution_count": 28,
     "metadata": {},
     "output_type": "execute_result"
    }
   ],
   "source": [
    "#data2 = data_set.fillna(value={'residence_type2':-1})\n",
    "#data2 = data2.loc[data2.residence_type2 != -1]\n",
    "#data2 = data2.loc[data2.residence_type1 == 3.0]\n",
    "#career_set = list(set(data1['career2'].values))\n",
    "#residence_list = data_set.loc[:,['residence_type1','residence_type2']].values\n",
    "#other = []\n",
    "#for i in range(len(residence_list)):\n",
    "#    if residence_list[i][0] == 3.0:\n",
    "#       other.append( residence_list[i][1])\n",
    "#len(other)331\n",
    "#数量不足1%，放弃对之的处理\n",
    "data3 = data_set.fillna(-1)\n",
    "\n",
    "education_list = data3.loc[:,'education'].values\n",
    "education_dic = {1:'初中',2:'大学及以上（含大专）',3:'小学及以下',4: '高中/职高（含中专）'}\n",
    "for i in range(len(education_list)):\n",
    "    for k,v in education_dic.items():\n",
    "        if v == education_list[i]:\n",
    "            education_list[i] = k\n",
    "            \n",
    "work_state_list = data3.loc[:,'work_state'].values\n",
    "temp = list(set(work_state_list))\n",
    "#删除所有数字\n",
    "work_state_dic = {1:'待业或无业（全职主妇、家庭主妇、待就业人员）', 2:'离退休', 3:'在职（含自由职业人员、学生）'}\n",
    "for i in range(len(work_state_list)):\n",
    "    for k,v in work_state_dic.items():\n",
    "        if work_state_list[i] == v:\n",
    "            work_state_list[i] = k\n",
    "    if int(work_state_list[i]) > 3:\n",
    "        work_state_list[i] = -1\n",
    "\n",
    "locationhb_list = data_set.loc[:,'locationhb'].values\n",
    "locationhb_dic = {1:'indoor',2: 'outdoor', 3:'transport'}\n",
    "for i in range(len(locationhb_list)):\n",
    "    for k,v in locationhb_dic.items():\n",
    "        if locationhb_list[i] == v:\n",
    "            locationhb_list[i] = k\n",
    "            \n",
    "act_list = data_set.loc[:,'act'].values\n",
    "\n",
    "for i in range(len(act_list)):\n",
    "    if act_list[i] != '1' and act_list[i] != '2' and act_list[i] != '3' and act_list[i] != 1 and act_list[i] != 2 and act_list[i] != 3:\n",
    "        act_list[i] = -1\n",
    "set(act_list)"
   ]
  },
  {
   "cell_type": "code",
   "execution_count": null,
   "id": "c68044f4",
   "metadata": {
    "scrolled": false
   },
   "outputs": [],
   "source": [
    "data_res = copy.deepcopy(data_set)\n",
    "data_res.drop(['career1','career2','residence_type2'],axis=1,inplace=True)\n",
    "data_res['career'] = career_list[:,0]\n",
    "data_res['education'] = education_list\n",
    "data_res['work_state'] = work_state_list\n",
    "data_res['locationhb'] = locationhb_list\n",
    "data_res['act']=act_list\n",
    "\n",
    "\n",
    "data_res['height'].where(data_res['height'] < 120 ,-1)\n",
    "data_res['height'].where( data_res['height'] > 210,-1)\n",
    "\n",
    "data_res['weight'].where(data_res['weight'] < 30 ,-1)\n",
    "data_res['weight'].where(data_res['weight'] > 100 ,-1)\n",
    "\n",
    "data_res[:3]"
   ]
  },
  {
   "cell_type": "code",
   "execution_count": null,
   "id": "c26dfca6",
   "metadata": {},
   "outputs": [],
   "source": [
    "data_res['act'] = data_res['act'].astype('int')\n",
    "data_res['work_state'] = data_res['work_state'].astype('int')\n",
    "data_res['education'] = data_res['education'].astype('int')\n",
    "data_res['locationhb'] = data_res['locationhb'].astype('int')\n",
    "data_res['career'] = data_res['career'].astype('int')\n",
    "\n",
    "\n",
    "data_res.info()"
   ]
  },
  {
   "cell_type": "code",
   "execution_count": null,
   "id": "ea7fca5e",
   "metadata": {},
   "outputs": [],
   "source": [
    "#先drop掉residence_floor ,对其他nan赋-1\n",
    "residence_floor_list = data_res.loc[:,'residence_floor'].values\n",
    "data_res.drop(labels=['residence_floor','location'],axis=1,inplace=True)\n",
    "data_res.fillna(-1,inplace=True)"
   ]
  },
  {
   "cell_type": "code",
   "execution_count": null,
   "id": "2b087eef",
   "metadata": {},
   "outputs": [],
   "source": [
    "#删掉所有含有-1的行\n",
    "#df2[[\"Weight\",\"Height\",\"BootSize\",\"SuitSize\"]].astype(str).replace('0',np.nan)\n",
    "head = list(data_res.columns)\n",
    "data_res = data_res[head].replace(['-1',-1,-1.0],np.nan)\n",
    "data_res.dropna(subset=head, how='any', inplace=True)\n",
    "data_res.reset_index(inplace=True)\n",
    "len(data_res)"
   ]
  },
  {
   "cell_type": "code",
   "execution_count": null,
   "id": "b2853e8c",
   "metadata": {},
   "outputs": [],
   "source": [
    "#进行归一化处理'residence_floor'\n",
    "norm_list = ['height','weight', 'work_days', 'rest_days', \n",
    "             'conditioner_time', 'kaichuang_time', 'air_cleaner_time', 'age']\n",
    "for norm_name in norm_list:\n",
    "    data_res[norm_name] = minmax_norm(data_res,norm_name)"
   ]
  },
  {
   "cell_type": "code",
   "execution_count": null,
   "id": "230233fe",
   "metadata": {},
   "outputs": [],
   "source": [
    "#进行one-hot处理\n",
    "one_hot_list = ['gender','education','work_state','career','residence_type1','act']\n",
    "for one_hot_name in one_hot_list:\n",
    "    temp_pd = pd.get_dummies(data_res.loc[:,one_hot_name])\n",
    "    head_temp = list(temp_pd.columns)\n",
    "    head_temp = [one_hot_name + str(s) for s in head_temp]\n",
    "    temp_pd.columns = head_temp\n",
    "    \n",
    "    #合并和删除\n",
    "    data_res = pd.concat([data_res,temp_pd],axis=1)\n",
    "    data_res.drop(labels=one_hot_name,axis=1,inplace=True)"
   ]
  },
  {
   "cell_type": "code",
   "execution_count": null,
   "id": "648be92c",
   "metadata": {},
   "outputs": [],
   "source": [
    "#进行label处理\n",
    "#合并smoking_number locationhb\n",
    "labels_set1 = list(set(data_res.loc[:,'smoking_number'])) \n",
    "labels_set2 = list(set(data_res.loc[:,'locationhb'])) \n",
    "\n",
    "labels = [str(x) + '_'+ str(y) for x in labels_set1 for y in labels_set2]\n",
    "data_res['label'] = np.zeros(len(data_res))\n",
    "for i in range(len(data_res)):\n",
    "    for j in range(len(labels_set1)):\n",
    "        if data_res.loc[i,'smoking_number'] == labels_set1[j]:\n",
    "            for k in range(len(labels_set2)):\n",
    "                if data_res.loc[i,'locationhb'] == labels_set2[k]:\n",
    "                    data_res.loc[i,'label'] = len(labels_set2)*j + k + 1\n",
    "data_res.drop(labels=['smoking_number','locationhb'],axis=1,inplace=True)\n",
    "            "
   ]
  },
  {
   "cell_type": "code",
   "execution_count": null,
   "id": "29875aee",
   "metadata": {},
   "outputs": [],
   "source": [
    "#替换tandf\n",
    "head = list(data_res.columns)\n",
    "data_res[head] = data_res[head].replace({True: 1, False: 0})\n",
    "data_res[:10]"
   ]
  },
  {
   "cell_type": "code",
   "execution_count": null,
   "id": "807954be",
   "metadata": {},
   "outputs": [],
   "source": [
    "data_res.to_csv('data_res.csv')"
   ]
  }
 ],
 "metadata": {
  "kernelspec": {
   "display_name": "Python 3",
   "language": "python",
   "name": "python3"
  },
  "language_info": {
   "codemirror_mode": {
    "name": "ipython",
    "version": 3
   },
   "file_extension": ".py",
   "mimetype": "text/x-python",
   "name": "python",
   "nbconvert_exporter": "python",
   "pygments_lexer": "ipython3",
   "version": "3.11.5"
  }
 },
 "nbformat": 4,
 "nbformat_minor": 5
}
